{
 "cells": [
  {
   "cell_type": "code",
   "execution_count": 3,
   "metadata": {},
   "outputs": [],
   "source": [
    "%%bash\n",
    "mafft --thread 8 --retree 2 --maxiterate 0 --fft \\\n",
    "      data/original/unaligned_schindel2017.fasta \\\n",
    "      > data/processed/aligned_schindel2017.fasta \\\n",
    "      2> logs/mafft_usnm.log"
   ]
  },
  {
   "cell_type": "code",
   "execution_count": 4,
   "metadata": {},
   "outputs": [],
   "source": [
    "%%bash\n",
    "FastTree -gtr -nt data/processed/aligned_schindel2017.fasta \\\n",
    "         > data/processed/usnm_bird_tree.nwk \\\n",
    "         2> logs/fasttree_usnm.log"
   ]
  },
  {
   "cell_type": "code",
   "execution_count": 6,
   "metadata": {},
   "outputs": [
    {
     "name": "stdout",
     "output_type": "stream",
     "text": [
      "  accession                     country          scientific_name  \\\n",
      "0  JQ176654                      Guyana  Xiphorhynchus obsoletus   \n",
      "1  JQ176549  Guyana: Northwest District         Trogon violaceus   \n",
      "2  JQ176510                      Guyana    Todirostrum maculatum   \n",
      "3  JQ176359  Guyana: Northwest District    Tachyphonus luctuosus   \n",
      "4  JQ176343                      Guyana       Tachornis squamata   \n",
      "\n",
      "  specimen_voucher just_country  \n",
      "0       KU:O:89742       Guyana  \n",
      "1       KU:O:88933       Guyana  \n",
      "2       KU:O:90939       Guyana  \n",
      "3       KU:O:89078       Guyana  \n",
      "4       KU:O:91651       Guyana  \n"
     ]
    }
   ],
   "source": [
    "import pandas as pd\n",
    "\n",
    "cols_to_keep = ['accession','scientific_name','specimen_voucher','country']\n",
    "usnm_specimens = pd.read_csv('data/original/schindel2017.tsv',sep='\\t', usecols=cols_to_keep)\n",
    "usnm_specimens['just_country'] = usnm_specimens['country'].str.split(':').str.get(0)\n",
    "print(usnm_specimens.head())"
   ]
  },
  {
   "cell_type": "code",
   "execution_count": 7,
   "metadata": {},
   "outputs": [],
   "source": [
    "org_dict = usnm_specimens.set_index('accession')['scientific_name'].to_dict()\n",
    "voucher_dict = usnm_specimens.set_index('accession')['specimen_voucher'].to_dict()\n",
    "country_dict = usnm_specimens.set_index('accession')['just_country'].to_dict()"
   ]
  },
  {
   "cell_type": "code",
   "execution_count": 8,
   "metadata": {},
   "outputs": [
    {
     "name": "stdout",
     "output_type": "stream",
     "text": [
      "25\n"
     ]
    }
   ],
   "source": [
    "dist_df = pd.read_csv('data/processed/schindel2017_distance_summary.tsv',sep='\\t')\n",
    "bad_dist = dist_df[dist_df['max_intra'] > dist_df['min_inter']]\n",
    "bad_orgs = bad_dist['scientific_name'].tolist()\n",
    "print(len(bad_orgs))"
   ]
  },
  {
   "cell_type": "code",
   "execution_count": 14,
   "metadata": {},
   "outputs": [],
   "source": [
    "from ete3 import Tree, TreeStyle, TextFace\n",
    "\n",
    "t = Tree(\"data/processed/usnm_bird_tree.nwk\")"
   ]
  },
  {
   "cell_type": "code",
   "execution_count": 15,
   "metadata": {},
   "outputs": [],
   "source": [
    "for node in t.iter_leaves():\n",
    "    seq_id = str(node.name)\n",
    "    voucher = str(voucher_dict[seq_id])\n",
    "    country = str(country_dict[seq_id])\n",
    "    org_name = str(org_dict[seq_id])\n",
    "    genus_species = ' '.join(org_name.split(' ')[:2])\n",
    "    label_text = ', '.join([seq_id, voucher, org_name, country])\n",
    "    if genus_species in bad_orgs:\n",
    "        label = TextFace(label_text, fsize=10, fgcolor='red', fstyle='italic')\n",
    "    else:\n",
    "        label = TextFace(label_text)\n",
    "    node.add_face(label, column=0)"
   ]
  },
  {
   "cell_type": "code",
   "execution_count": 17,
   "metadata": {},
   "outputs": [],
   "source": [
    "ts = TreeStyle()\n",
    "ts.show_leaf_name = False\n",
    "ts.margin_right = 24\n",
    "ts.scale=1200\n",
    "ts.branch_vertical_margin=5\n",
    "tree_file = t.render(\"figures/fasttree_tree.svg\", w=800, units='px', tree_style = ts)"
   ]
  },
  {
   "cell_type": "code",
   "execution_count": null,
   "metadata": {
    "collapsed": true
   },
   "outputs": [],
   "source": []
  }
 ],
 "metadata": {
  "anaconda-cloud": {},
  "kernelspec": {
   "display_name": "Python [default]",
   "language": "python",
   "name": "python3"
  },
  "language_info": {
   "codemirror_mode": {
    "name": "ipython",
    "version": 3
   },
   "file_extension": ".py",
   "mimetype": "text/x-python",
   "name": "python",
   "nbconvert_exporter": "python",
   "pygments_lexer": "ipython3",
   "version": "3.5.2"
  }
 },
 "nbformat": 4,
 "nbformat_minor": 1
}
