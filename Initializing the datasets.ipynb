{
 "cells": [
  {
   "cell_type": "markdown",
   "metadata": {},
   "source": [
    "# Initializing the datasets\n",
    "Our first step will be to grab all of the specimen and sequence data from GenBank. \n",
    "\n",
    "We will use the Python *requests* library to search and download the data from NCBI's eutils webservice, and then use the Python *lxml* library to parse the XML and grab the fields we want."
   ]
  },
  {
   "cell_type": "code",
   "execution_count": 14,
   "metadata": {
    "collapsed": true
   },
   "outputs": [],
   "source": [
    "import requests\n",
    "from lxml import objectify\n",
    "import pandas as pd"
   ]
  },
  {
   "cell_type": "code",
   "execution_count": 4,
   "metadata": {
    "collapsed": true
   },
   "outputs": [],
   "source": [
    "from collections import namedtuple\n",
    "\n",
    "def genbank_search(search_term, db='nuccore'):\n",
    "    search_params = {'term': search_term,\n",
    "                 'db': db,\n",
    "                 'usehistory': 'y',\n",
    "                 'email': 'triznam@si.edu'}\n",
    "\n",
    "    r = requests.get(\"https://eutils.ncbi.nlm.nih.gov/entrez/eutils/esearch.fcgi\", params=search_params)\n",
    "\n",
    "    search_results = objectify.fromstring(r.content)\n",
    "    web_env = search_results.WebEnv.text\n",
    "    query_key = search_results.QueryKey.text\n",
    "    result_count = int(search_results.Count.text)\n",
    "\n",
    "    Result = namedtuple('SearchResults',['web_env','query_key','result_count'])\n",
    " \n",
    "    result = Result(web_env, query_key, result_count)\n",
    "    return result"
   ]
  },
  {
   "cell_type": "code",
   "execution_count": 5,
   "metadata": {
    "collapsed": true
   },
   "outputs": [],
   "source": [
    "def fetch_data_from_search_results(result_count, web_env, query_key, batch_size=500):\n",
    "    ret_start = 0\n",
    "    parsed_results = []\n",
    "    while ret_start < result_count:  \n",
    "        url_base = \"https://eutils.ncbi.nlm.nih.gov/entrez/eutils/efetch.fcgi\"\n",
    "        params = {'db': 'nuccore',\n",
    "                  'rettype': 'gb',\n",
    "                  'retmode': 'xml',\n",
    "                  'query_key': query_key,\n",
    "                  'WebEnv': web_env,\n",
    "                  'retstart': ret_start,\n",
    "                  'retmax': batch_size}\n",
    "        r = requests.get(url_base, params=params)\n",
    "        result_list = parse_xml_fetch_results(r.content)\n",
    "        \n",
    "        parsed_results += result_list\n",
    "        \n",
    "        ret_start += batch_size\n",
    "    return parsed_results"
   ]
  },
  {
   "cell_type": "code",
   "execution_count": 6,
   "metadata": {
    "collapsed": true
   },
   "outputs": [],
   "source": [
    "def parse_xml_fetch_results(gb_xml):\n",
    "    target_pieces = ['specimen_voucher','country','lat_lon','collection_date',\n",
    "                     'collected_by','identified_by']\n",
    "    result_list = []\n",
    "    huge_parser = objectify.makeparser(huge_tree=True)\n",
    "    xml_results = objectify.fromstring(gb_xml, huge_parser)\n",
    "    for gb in xml_results.GBSeq:\n",
    "        result = {}\n",
    "        result['accession'] = gb['GBSeq_primary-accession'].text\n",
    "        result['scientific_name'] = gb['GBSeq_organism'].text\n",
    "        result['sequence'] = gb.GBSeq_sequence.text\n",
    "        for feature in gb['GBSeq_feature-table'].iterchildren():\n",
    "            if feature.GBFeature_key.text == 'source':\n",
    "                for feature_qual in feature.GBFeature_quals.iterchildren():\n",
    "                    if feature_qual.GBQualifier_name.text in target_pieces:\n",
    "                        result[feature_qual.GBQualifier_name.text] = str(feature_qual.GBQualifier_value.text)\n",
    "        result_list.append(result)\n",
    "    return result_list"
   ]
  },
  {
   "cell_type": "code",
   "execution_count": 7,
   "metadata": {
    "collapsed": true
   },
   "outputs": [],
   "source": [
    "from textwrap import wrap\n",
    "\n",
    "def export_fasta(result_list, filename):\n",
    "    with open(filename, 'w') as fasta_file:\n",
    "        for record in result_list:\n",
    "            wrapped_sequence = '\\n'.join(wrap(record['sequence'], 60))\n",
    "            fasta_entry = '>{}\\n{}\\n'.format(record['accession'], wrapped_sequence)\n",
    "            fasta_file.write(fasta_entry)\n",
    "    return"
   ]
  },
  {
   "cell_type": "code",
   "execution_count": 8,
   "metadata": {
    "collapsed": true
   },
   "outputs": [],
   "source": [
    "def count_traces(row):\n",
    "    accession = row['accession']\n",
    "    trace_base = 'https://trace.ncbi.nlm.nih.gov/Traces/trace.cgi'\n",
    "    query = \"query ACCESSION in ('{}')\".format(accession)\n",
    "    payload = {'cmd':'raw',\n",
    "              'query':query}\n",
    "    r = requests.get(trace_base, params=payload)\n",
    "    trace_count = len(r.text.splitlines())\n",
    "    return trace_count"
   ]
  },
  {
   "cell_type": "markdown",
   "metadata": {},
   "source": [
    "## Making the GenBank Searches"
   ]
  },
  {
   "cell_type": "markdown",
   "metadata": {},
   "source": [
    "### Prior to Schindel 2011"
   ]
  },
  {
   "cell_type": "code",
   "execution_count": 7,
   "metadata": {},
   "outputs": [
    {
     "name": "stdout",
     "output_type": "stream",
     "text": [
      "8019\n"
     ]
    }
   ],
   "source": [
    "search_term = 'barcode[keyword] AND \"Aves\"[Organism] AND (\"1900/01/01\"[PDAT] : \"2011/12/01\"[PDAT])'\n",
    "search_result = genbank_search(search_term)\n",
    "print(search_result.result_count)"
   ]
  },
  {
   "cell_type": "code",
   "execution_count": 9,
   "metadata": {},
   "outputs": [
    {
     "name": "stdout",
     "output_type": "stream",
     "text": [
      "8019\n"
     ]
    }
   ],
   "source": [
    "prior_data = fetch_data_from_search_results(search_result.result_count, search_result.web_env,\n",
    "                                            search_result.query_key)\n",
    "print(len(prior_data))"
   ]
  },
  {
   "cell_type": "code",
   "execution_count": 14,
   "metadata": {
    "collapsed": true
   },
   "outputs": [],
   "source": [
    "export_fasta(prior_data, 'data/original/unaligned_prior_usnm.fasta')"
   ]
  },
  {
   "cell_type": "code",
   "execution_count": 17,
   "metadata": {
    "collapsed": true
   },
   "outputs": [],
   "source": [
    "before_usnm = pd.DataFrame(prior_data)\n",
    "before_usnm['sequence_length'] = before_usnm['sequence'].str.len()\n",
    "before_usnm.drop('sequence', axis=1, inplace=True)\n",
    "\n",
    "before_usnm['trace_count'] = before_usnm.apply(count_traces, axis=1)\n",
    "\n",
    "before_usnm.to_csv('data/original/before_usnm.tsv', index=False, sep='\\t')"
   ]
  },
  {
   "cell_type": "markdown",
   "metadata": {
    "collapsed": true
   },
   "source": [
    "### Schindel 2011"
   ]
  },
  {
   "cell_type": "code",
   "execution_count": 9,
   "metadata": {},
   "outputs": [
    {
     "name": "stdout",
     "output_type": "stream",
     "text": [
      "2803\n"
     ]
    }
   ],
   "source": [
    "search_term = 'JQ173884:JQ176686[accn]'\n",
    "search_result = genbank_search(search_term)\n",
    "print(search_result.result_count)"
   ]
  },
  {
   "cell_type": "code",
   "execution_count": 12,
   "metadata": {},
   "outputs": [
    {
     "name": "stdout",
     "output_type": "stream",
     "text": [
      "2803\n"
     ]
    }
   ],
   "source": [
    "fetch_data = fetch_data_from_search_results(search_result.result_count, search_result.web_env,\n",
    "                                            search_result.query_key)\n",
    "print(len(fetch_data))"
   ]
  },
  {
   "cell_type": "code",
   "execution_count": 15,
   "metadata": {},
   "outputs": [],
   "source": [
    "schindel2011 = pd.DataFrame(fetch_data)\n",
    "schindel2011['sequence_length'] = schindel2011['sequence'].str.len()\n",
    "schindel2011.drop('sequence', axis=1, inplace=True)\n",
    "\n",
    "schindel2011['trace_count'] = schindel2011.apply(count_traces, axis=1)\n",
    "\n",
    "schindel2011.to_csv('data/original/schindel2011.tsv', index=False, sep='\\t')"
   ]
  },
  {
   "cell_type": "markdown",
   "metadata": {},
   "source": [
    "### Schindel 2017"
   ]
  },
  {
   "cell_type": "code",
   "execution_count": 16,
   "metadata": {},
   "outputs": [
    {
     "name": "stdout",
     "output_type": "stream",
     "text": [
      "2790\n"
     ]
    }
   ],
   "source": [
    "search_term = '81595[BioProject]'\n",
    "search_result = genbank_search(search_term)\n",
    "print(search_result.result_count)"
   ]
  },
  {
   "cell_type": "code",
   "execution_count": 17,
   "metadata": {},
   "outputs": [
    {
     "name": "stdout",
     "output_type": "stream",
     "text": [
      "2790\n"
     ]
    }
   ],
   "source": [
    "fetch_data = fetch_data_from_search_results(search_result.result_count, search_result.web_env,\n",
    "                                            search_result.query_key)\n",
    "print(len(fetch_data))"
   ]
  },
  {
   "cell_type": "code",
   "execution_count": 18,
   "metadata": {
    "collapsed": true
   },
   "outputs": [],
   "source": [
    "schindel2017 = pd.DataFrame(fetch_data)\n",
    "schindel2017['sequence_length'] = schindel2017['sequence'].str.len()\n",
    "schindel2017.drop('sequence', axis=1, inplace=True)\n",
    "\n",
    "schindel2017['trace_count'] = schindel2017.apply(count_traces, axis=1)"
   ]
  },
  {
   "cell_type": "code",
   "execution_count": 19,
   "metadata": {
    "collapsed": true
   },
   "outputs": [],
   "source": [
    "gb_upload = pd.read_csv('data/original/fims_to_upload_to_gb.tsv', sep='\\t')"
   ]
  },
  {
   "cell_type": "code",
   "execution_count": 20,
   "metadata": {
    "collapsed": true
   },
   "outputs": [],
   "source": [
    "schindel2017.to_csv('data/original/current_schindel2017.tsv', index=False, sep='\\t')"
   ]
  },
  {
   "cell_type": "code",
   "execution_count": 22,
   "metadata": {},
   "outputs": [
    {
     "name": "stdout",
     "output_type": "stream",
     "text": [
      "2980\n"
     ]
    }
   ],
   "source": [
    "combined = pd.concat([schindel2017,gb_upload])\n",
    "print(len(combined))"
   ]
  },
  {
   "cell_type": "code",
   "execution_count": 24,
   "metadata": {
    "collapsed": true
   },
   "outputs": [],
   "source": [
    "combined.to_csv('data/original/schindel2017.tsv', index=False, sep='\\t')"
   ]
  },
  {
   "cell_type": "code",
   "execution_count": null,
   "metadata": {
    "collapsed": true
   },
   "outputs": [],
   "source": []
  }
 ],
 "metadata": {
  "anaconda-cloud": {},
  "kernelspec": {
   "display_name": "Python [default]",
   "language": "python",
   "name": "python3"
  },
  "language_info": {
   "codemirror_mode": {
    "name": "ipython",
    "version": 3
   },
   "file_extension": ".py",
   "mimetype": "text/x-python",
   "name": "python",
   "nbconvert_exporter": "python",
   "pygments_lexer": "ipython3",
   "version": "3.5.2"
  }
 },
 "nbformat": 4,
 "nbformat_minor": 2
}
