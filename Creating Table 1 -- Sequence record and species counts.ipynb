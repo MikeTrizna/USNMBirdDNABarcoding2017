{
 "cells": [
  {
   "cell_type": "markdown",
   "metadata": {},
   "source": [
    "This Jupyter notebook is one of many that fully document the data analysis completed for the publication \"DNA Barcoding, Collection Management, and the Bird Collection in the Smithsonian’s National Museum of Natural History\" by Schindel et al.\n",
    "\n",
    "You can view all analysis notebooks, data, and figures in the GitHub repository here: https://github.com/MikeTrizna/USNMBirdDNABarcoding2017"
   ]
  },
  {
   "cell_type": "markdown",
   "metadata": {},
   "source": [
    "# Creating Table 1 -- Sequence record and species counts"
   ]
  },
  {
   "cell_type": "code",
   "execution_count": 1,
   "metadata": {
    "collapsed": true
   },
   "outputs": [],
   "source": [
    "import pandas as pd"
   ]
  },
  {
   "cell_type": "markdown",
   "metadata": {},
   "source": [
    "**Prior to Schindel 2011**"
   ]
  },
  {
   "cell_type": "code",
   "execution_count": 2,
   "metadata": {},
   "outputs": [
    {
     "name": "stdout",
     "output_type": "stream",
     "text": [
      "  accession     scientific_name specimen_voucher  trace_count\n",
      "0  FJ231517  Anas platyrhynchos              NaN            0\n",
      "1  FJ231516  Anas platyrhynchos              NaN            0\n",
      "2  FJ231515  Anas platyrhynchos              NaN            0\n",
      "3  FJ231514  Anas platyrhynchos              NaN            0\n",
      "4  FJ231513  Anas platyrhynchos              NaN            0\n"
     ]
    }
   ],
   "source": [
    "cols_to_keep = ['accession','specimen_voucher','scientific_name','trace_count']\n",
    "before_schindel2011 = pd.read_csv('data/original/before_schindel2011.tsv', sep='\\t', usecols=cols_to_keep)\n",
    "print(before_schindel2011.head())"
   ]
  },
  {
   "cell_type": "markdown",
   "metadata": {},
   "source": [
    "**Schindel 2011**"
   ]
  },
  {
   "cell_type": "code",
   "execution_count": 3,
   "metadata": {},
   "outputs": [
    {
     "name": "stdout",
     "output_type": "stream",
     "text": [
      "  accession        scientific_name   specimen_voucher  trace_count\n",
      "0  JQ176458      Tangara episcopus   USNM:Birds:A_542            2\n",
      "1  JQ174585      Crypturellus soui   USNM:Birds:A_257            2\n",
      "2  JQ175834   Picumnus spilogaster   USNM:Birds:A_325            2\n",
      "3  JQ175833   Picumnus spilogaster   USNM:Birds:A_434            2\n",
      "4  JQ175812  Phylloscopus schwarzi  USNM:Birds:620463            2\n"
     ]
    }
   ],
   "source": [
    "schindel2011 = pd.read_csv('data/original/schindel2011.tsv',sep='\\t',usecols=cols_to_keep)\n",
    "print(schindel2011.head())"
   ]
  },
  {
   "cell_type": "markdown",
   "metadata": {},
   "source": [
    "**Final dataset for this paper**"
   ]
  },
  {
   "cell_type": "code",
   "execution_count": 4,
   "metadata": {},
   "outputs": [
    {
     "name": "stdout",
     "output_type": "stream",
     "text": [
      "  accession          scientific_name specimen_voucher  trace_count\n",
      "0  JQ176654  Xiphorhynchus obsoletus       KU:O:89742            2\n",
      "1  JQ176549         Trogon violaceus       KU:O:88933            2\n",
      "2  JQ176510    Todirostrum maculatum       KU:O:90939            2\n",
      "3  JQ176359    Tachyphonus luctuosus       KU:O:89078            2\n",
      "4  JQ176343       Tachornis squamata       KU:O:91651            2\n"
     ]
    }
   ],
   "source": [
    "schindel2017 = pd.read_csv('data/original/schindel2017.tsv', sep='\\t',usecols=cols_to_keep)\n",
    "print(schindel2017.head())"
   ]
  },
  {
   "cell_type": "markdown",
   "metadata": {},
   "source": [
    "**Combining \"prior\" dataset with \"final\" dataset**"
   ]
  },
  {
   "cell_type": "code",
   "execution_count": 5,
   "metadata": {},
   "outputs": [
    {
     "name": "stdout",
     "output_type": "stream",
     "text": [
      "10999\n"
     ]
    }
   ],
   "source": [
    "prior_plus_final = pd.concat([before_schindel2011, schindel2017])\n",
    "print(len(prior_plus_final))"
   ]
  },
  {
   "cell_type": "markdown",
   "metadata": {},
   "source": [
    "## Running counts on each dataset"
   ]
  },
  {
   "cell_type": "code",
   "execution_count": 6,
   "metadata": {
    "collapsed": true
   },
   "outputs": [],
   "source": [
    "from collections import OrderedDict"
   ]
  },
  {
   "cell_type": "code",
   "execution_count": 7,
   "metadata": {
    "collapsed": true
   },
   "outputs": [],
   "source": [
    "dataset_list = OrderedDict([('Prior to Schindel 2011:',before_schindel2011),\n",
    "                            ('Schindel 2011:', schindel2011), \n",
    "                            ('Final USNM dataset:', schindel2017), \n",
    "                            ('Prior plus final:', prior_plus_final)])"
   ]
  },
  {
   "cell_type": "markdown",
   "metadata": {},
   "source": [
    "Removing subspecies from scientific name"
   ]
  },
  {
   "cell_type": "code",
   "execution_count": 8,
   "metadata": {
    "collapsed": true
   },
   "outputs": [],
   "source": [
    "for df in dataset_list.values():\n",
    "    df['genus_species'] = df['scientific_name'].str.split(' ').str.get(0) + ' ' + \\\n",
    "                            df['scientific_name'].str.split(' ').str.get(1)"
   ]
  },
  {
   "cell_type": "markdown",
   "metadata": {},
   "source": [
    "\\# of records"
   ]
  },
  {
   "cell_type": "code",
   "execution_count": 9,
   "metadata": {},
   "outputs": [
    {
     "name": "stdout",
     "output_type": "stream",
     "text": [
      "Prior to Schindel 2011: 8019\n",
      "Schindel 2011: 2803\n",
      "Final USNM dataset: 2980\n",
      "Prior plus final: 10999\n"
     ]
    }
   ],
   "source": [
    "for label, df in dataset_list.items():\n",
    "    print(label, len(df))"
   ]
  },
  {
   "cell_type": "markdown",
   "metadata": {},
   "source": [
    "\\# of records with at least 2 traces"
   ]
  },
  {
   "cell_type": "code",
   "execution_count": 10,
   "metadata": {},
   "outputs": [
    {
     "name": "stdout",
     "output_type": "stream",
     "text": [
      "Prior to Schindel 2011: 2447\n",
      "Schindel 2011: 2802\n",
      "Final USNM dataset: 2968\n",
      "Prior plus final: 5415\n"
     ]
    }
   ],
   "source": [
    "for label, df in dataset_list.items():\n",
    "    print(label, len(df[df['trace_count'] > 1]))"
   ]
  },
  {
   "cell_type": "markdown",
   "metadata": {},
   "source": [
    "\\# of unique species"
   ]
  },
  {
   "cell_type": "code",
   "execution_count": 11,
   "metadata": {},
   "outputs": [
    {
     "name": "stdout",
     "output_type": "stream",
     "text": [
      "Prior to Schindel 2011: 1521\n",
      "Schindel 2011: 1287\n",
      "Final USNM dataset: 1346\n",
      "Prior plus final: 2597\n"
     ]
    }
   ],
   "source": [
    "for label, df in dataset_list.items():\n",
    "    print(label, df['genus_species'].nunique())"
   ]
  },
  {
   "cell_type": "markdown",
   "metadata": {},
   "source": [
    "\\# of unique species with 2 traces"
   ]
  },
  {
   "cell_type": "code",
   "execution_count": 12,
   "metadata": {},
   "outputs": [
    {
     "name": "stdout",
     "output_type": "stream",
     "text": [
      "Prior to Schindel 2011: 685\n",
      "Schindel 2011: 1287\n",
      "Final USNM dataset: 1345\n",
      "Prior plus final: 1961\n"
     ]
    }
   ],
   "source": [
    "for label, df in dataset_list.items():\n",
    "    print(label, df[df['trace_count'] > 1]['genus_species'].nunique())"
   ]
  },
  {
   "cell_type": "markdown",
   "metadata": {},
   "source": [
    "\\# of species with a single record"
   ]
  },
  {
   "cell_type": "code",
   "execution_count": 13,
   "metadata": {},
   "outputs": [
    {
     "name": "stdout",
     "output_type": "stream",
     "text": [
      "Prior to Schindel 2011: 265\n",
      "Schindel 2011: 421\n",
      "Final USNM dataset: 448\n",
      "Prior plus final: 504\n"
     ]
    }
   ],
   "source": [
    "for label, df in dataset_list.items():\n",
    "    species_size = df.groupby('genus_species').size()\n",
    "    print(label, len(species_size[species_size == 1]))"
   ]
  },
  {
   "cell_type": "code",
   "execution_count": null,
   "metadata": {
    "collapsed": true
   },
   "outputs": [],
   "source": []
  }
 ],
 "metadata": {
  "anaconda-cloud": {},
  "kernelspec": {
   "display_name": "Python 3",
   "language": "python",
   "name": "python3"
  },
  "language_info": {
   "codemirror_mode": {
    "name": "ipython",
    "version": 3
   },
   "file_extension": ".py",
   "mimetype": "text/x-python",
   "name": "python",
   "nbconvert_exporter": "python",
   "pygments_lexer": "ipython3",
   "version": "3.5.1"
  }
 },
 "nbformat": 4,
 "nbformat_minor": 2
}
