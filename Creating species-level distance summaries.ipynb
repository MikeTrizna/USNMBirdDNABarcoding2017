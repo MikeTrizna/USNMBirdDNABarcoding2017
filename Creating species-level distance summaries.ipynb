{
 "cells": [
  {
   "cell_type": "code",
   "execution_count": 1,
   "metadata": {
    "collapsed": true
   },
   "outputs": [],
   "source": [
    "import pandas as pd\n",
    "import numpy as np\n",
    "import feather"
   ]
  },
  {
   "cell_type": "code",
   "execution_count": 2,
   "metadata": {},
   "outputs": [
    {
     "name": "stdout",
     "output_type": "stream",
     "text": [
      "<class 'pandas.core.frame.DataFrame'>\n",
      "RangeIndex: 14723451 entries, 0 to 14723450\n",
      "Data columns (total 3 columns):\n",
      "seq1    object\n",
      "seq2    object\n",
      "dist    float32\n",
      "dtypes: float32(1), object(2)\n",
      "memory usage: 280.8+ MB\n",
      "None\n",
      "<class 'pandas.core.frame.DataFrame'>\n",
      "RangeIndex: 14723451 entries, 0 to 14723450\n",
      "Data columns (total 3 columns):\n",
      "seq1    category\n",
      "seq2    category\n",
      "dist    float32\n",
      "dtypes: category(2), float32(1)\n",
      "memory usage: 112.4 MB\n",
      "None\n"
     ]
    }
   ],
   "source": [
    "dist_col_names = ['seq1','seq2','dist']\n",
    "dist_col_types = {'seq1':'object',\n",
    "                  'seq2':'object',\n",
    "                  'dist':'float32'}\n",
    "dist_df = pd.read_csv('data/processed/aligned_combined.dist',\n",
    "                      delim_whitespace=True,\n",
    "                      header=None, \n",
    "                      names=dist_col_names,\n",
    "                      dtype=dist_col_types)\n",
    "print(dist_df.info())\n",
    "\n",
    "dist_df['seq1'] = dist_df['seq1'].astype('category')\n",
    "dist_df['seq2'] = dist_df['seq2'].astype('category')\n",
    "\n",
    "print(dist_df.info())"
   ]
  },
  {
   "cell_type": "code",
   "execution_count": 3,
   "metadata": {},
   "outputs": [
    {
     "name": "stdout",
     "output_type": "stream",
     "text": [
      "5427\n",
      "   accession      scientific_name              dataset\n",
      "13  JN419247  Haplospiza unicolor  before_schindel2011\n",
      "14  JN419246  Haplospiza unicolor  before_schindel2011\n",
      "15  JN419245   Diglossa sittoides  before_schindel2011\n",
      "16  JN419244   Diglossopis cyanea  before_schindel2011\n",
      "17  JN419243   Diglossopis cyanea  before_schindel2011\n"
     ]
    }
   ],
   "source": [
    "before_specimens = pd.read_csv(\"data/original/before_schindel2011.tsv\",\n",
    "                              sep=\"\\t\",\n",
    "                              usecols=['accession','scientific_name','trace_count'])\n",
    "before_specimens['dataset'] = 'before_schindel2011'\n",
    "                                        \n",
    "usnm_specimens = pd.read_csv(\"data/original/schindel2017.tsv\",\n",
    "                              sep=\"\\t\",\n",
    "                              usecols=['accession','scientific_name', 'trace_count'])\n",
    "usnm_specimens['dataset'] = 'schindel2017'\n",
    "\n",
    "specimen_key = before_specimens.append(usnm_specimens)\n",
    "specimen_key = specimen_key[specimen_key['trace_count'] > 1][['accession','scientific_name','dataset']]\n",
    "\n",
    "print(len(specimen_key))\n",
    "print(specimen_key.head())"
   ]
  },
  {
   "cell_type": "code",
   "execution_count": 4,
   "metadata": {},
   "outputs": [
    {
     "name": "stdout",
     "output_type": "stream",
     "text": [
      "       seq1      seq2      dist     scientific_name1             dataset1  \\\n",
      "0  JN419246  JN419247  0.002882  Haplospiza unicolor  before_schindel2011   \n",
      "1  JN419245  JN419247  0.100900   Diglossa sittoides  before_schindel2011   \n",
      "2  JN419244  JN419247  0.079250   Diglossopis cyanea  before_schindel2011   \n",
      "3  JN419243  JN419247  0.079250   Diglossopis cyanea  before_schindel2011   \n",
      "4  GU571987  JN419247  0.143500    Muscicapa striata  before_schindel2011   \n",
      "\n",
      "      scientific_name2             dataset2  \n",
      "0  Haplospiza unicolor  before_schindel2011  \n",
      "1  Haplospiza unicolor  before_schindel2011  \n",
      "2  Haplospiza unicolor  before_schindel2011  \n",
      "3  Haplospiza unicolor  before_schindel2011  \n",
      "4  Haplospiza unicolor  before_schindel2011  \n",
      "14723451\n"
     ]
    }
   ],
   "source": [
    "new_dist_df = pd.merge(dist_df, specimen_key, left_on='seq1',right_on='accession')\n",
    "new_dist_df.drop('accession', axis=1, inplace=True)\n",
    "del dist_df\n",
    "\n",
    "combined_dist_df = pd.merge(new_dist_df, specimen_key, left_on='seq2',right_on='accession', suffixes=('1','2'))\n",
    "combined_dist_df.drop('accession', axis=1, inplace=True)\n",
    "del new_dist_df\n",
    "print(combined_dist_df.head())\n",
    "print(len(combined_dist_df))"
   ]
  },
  {
   "cell_type": "code",
   "execution_count": 5,
   "metadata": {},
   "outputs": [
    {
     "name": "stdout",
     "output_type": "stream",
     "text": [
      "<class 'pandas.core.frame.DataFrame'>\n",
      "Int64Index: 14723451 entries, 0 to 14723450\n",
      "Data columns (total 7 columns):\n",
      "seq1                object\n",
      "seq2                object\n",
      "dist                float32\n",
      "scientific_name1    object\n",
      "dataset1            object\n",
      "scientific_name2    object\n",
      "dataset2            object\n",
      "dtypes: float32(1), object(6)\n",
      "memory usage: 842.5+ MB\n",
      "None\n",
      "<class 'pandas.core.frame.DataFrame'>\n",
      "Int64Index: 14723451 entries, 0 to 14723450\n",
      "Data columns (total 7 columns):\n",
      "seq1                category\n",
      "seq2                category\n",
      "dist                float32\n",
      "scientific_name1    category\n",
      "dataset1            category\n",
      "scientific_name2    category\n",
      "dataset2            category\n",
      "dtypes: category(6), float32(1)\n",
      "memory usage: 309.0 MB\n",
      "None\n"
     ]
    }
   ],
   "source": [
    "print(combined_dist_df.info())\n",
    "category_fields = ['seq1','seq2',\n",
    "                   'scientific_name1','scientific_name2',\n",
    "                   'dataset1','dataset2']\n",
    "\n",
    "for field in category_fields:\n",
    "    combined_dist_df[field] = combined_dist_df[field].astype(\"category\")\n",
    "\n",
    "print(combined_dist_df.info())"
   ]
  },
  {
   "cell_type": "code",
   "execution_count": 6,
   "metadata": {
    "collapsed": true
   },
   "outputs": [],
   "source": [
    "import feather\n",
    "path = 'data/processed/distance_df.feather'"
   ]
  },
  {
   "cell_type": "code",
   "execution_count": 7,
   "metadata": {
    "collapsed": true
   },
   "outputs": [],
   "source": [
    "feather.write_dataframe(combined_dist_df, path)"
   ]
  },
  {
   "cell_type": "code",
   "execution_count": 8,
   "metadata": {},
   "outputs": [
    {
     "name": "stdout",
     "output_type": "stream",
     "text": [
      "<class 'pandas.core.frame.DataFrame'>\n",
      "RangeIndex: 14723451 entries, 0 to 14723450\n",
      "Data columns (total 7 columns):\n",
      "seq1                category\n",
      "seq2                category\n",
      "dist                float32\n",
      "scientific_name1    category\n",
      "dataset1            category\n",
      "scientific_name2    category\n",
      "dataset2            category\n",
      "dtypes: category(6), float32(1)\n",
      "memory usage: 196.7 MB\n",
      "None\n"
     ]
    }
   ],
   "source": [
    "combined_dist_df = feather.read_dataframe(path)\n",
    "print(combined_dist_df.info())"
   ]
  },
  {
   "cell_type": "code",
   "execution_count": 9,
   "metadata": {
    "collapsed": true
   },
   "outputs": [],
   "source": [
    "before_dist_df = combined_dist_df[(combined_dist_df['dataset1'] == 'before_schindel2011') & \\\n",
    "                                  (combined_dist_df['dataset2'] == 'before_schindel2011')]\n",
    "usnm_dist_df = combined_dist_df[(combined_dist_df['dataset1'] == 'schindel2017') & \\\n",
    "                                (combined_dist_df['dataset2'] == 'schindel2017')]"
   ]
  },
  {
   "cell_type": "code",
   "execution_count": 10,
   "metadata": {},
   "outputs": [
    {
     "name": "stdout",
     "output_type": "stream",
     "text": [
      "                     count\n",
      "scientific_name           \n",
      "Abrornis humei           4\n",
      "Abrornis inornata        6\n",
      "Abrornis proregulus     10\n",
      "Acanthis flammea        17\n",
      "Acanthis hornemanni     11\n"
     ]
    }
   ],
   "source": [
    "before_orgs = pd.DataFrame(before_specimens.groupby('scientific_name').size())\n",
    "before_orgs.columns = ['count']\n",
    "print(before_orgs.head())\n",
    "\n",
    "usnm_orgs = pd.DataFrame(usnm_specimens.groupby('scientific_name').size())\n",
    "usnm_orgs.columns = ['count']\n",
    "\n",
    "combined_orgs = pd.DataFrame(specimen_key.groupby('scientific_name').size())\n",
    "combined_orgs.columns = ['count']\n",
    "\n",
    "dataset_dict = {'before_schindel2011':\n",
    "                 {'org_df': before_orgs,\n",
    "                 'dist_df': before_dist_df},\n",
    "                'schindel2017':\n",
    "                 {'org_df': usnm_orgs,\n",
    "                 'dist_df': usnm_dist_df},\n",
    "                'combined':\n",
    "                 {'org_df': combined_orgs,\n",
    "                 'dist_df': combined_dist_df}}"
   ]
  },
  {
   "cell_type": "code",
   "execution_count": 11,
   "metadata": {
    "collapsed": true
   },
   "outputs": [],
   "source": [
    "import datetime as dt"
   ]
  },
  {
   "cell_type": "code",
   "execution_count": 12,
   "metadata": {
    "collapsed": true
   },
   "outputs": [],
   "source": [
    "def max_intra(organism, count, df):\n",
    "    if count > 1:\n",
    "        return df[(df.scientific_name1 == organism) & \n",
    "               (df.scientific_name2 == organism)]['dist'].max()\n",
    "    else:\n",
    "        return np.nan\n",
    "    \n",
    "def min_inter(organism, df):\n",
    "    return df[((df.scientific_name1 == organism) | \n",
    "               (df.scientific_name2 == organism)) & \n",
    "               (df.scientific_name1 != df.scientific_name2)]['dist'].min()"
   ]
  },
  {
   "cell_type": "code",
   "execution_count": 13,
   "metadata": {},
   "outputs": [
    {
     "name": "stdout",
     "output_type": "stream",
     "text": [
      "combined\n",
      "Elapsed time for analysis: 0:05:20.924965\n",
      "before_schindel2011\n",
      "Elapsed time for analysis: 0:01:07.142188\n",
      "schindel2017\n",
      "Elapsed time for analysis: 0:01:04.674279\n"
     ]
    }
   ],
   "source": [
    "for dataset in dataset_dict:\n",
    "    print(dataset)\n",
    "    start_time = dt.datetime.now()\n",
    "    \n",
    "    org_df = dataset_dict[dataset]['org_df']\n",
    "    distance_df = dataset_dict[dataset]['dist_df']\n",
    "\n",
    "    org_df['max_intra'] = org_df.apply(lambda x: max_intra(x.name, x['count'], distance_df), axis=1)\n",
    "    org_df['min_inter'] = org_df.apply(lambda x: min_inter(x.name, distance_df), axis=1)\n",
    "    \n",
    "    org_df.reset_index(level=0, inplace=True)\n",
    "    distance_filename = \"data/processed/\"+ dataset + \"_distance_summary.tsv\"\n",
    "    org_df.to_csv(distance_filename, sep='\\t', index=False)    \n",
    "\n",
    "    end_time = dt.datetime.now()\n",
    "    print('Elapsed time for analysis:',(end_time - start_time))"
   ]
  },
  {
   "cell_type": "code",
   "execution_count": null,
   "metadata": {
    "collapsed": true
   },
   "outputs": [],
   "source": []
  }
 ],
 "metadata": {
  "anaconda-cloud": {},
  "kernelspec": {
   "display_name": "Python [default]",
   "language": "python",
   "name": "python3"
  },
  "language_info": {
   "codemirror_mode": {
    "name": "ipython",
    "version": 3
   },
   "file_extension": ".py",
   "mimetype": "text/x-python",
   "name": "python",
   "nbconvert_exporter": "python",
   "pygments_lexer": "ipython3",
   "version": "3.5.2"
  }
 },
 "nbformat": 4,
 "nbformat_minor": 2
}
