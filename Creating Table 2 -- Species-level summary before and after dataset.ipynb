{
 "cells": [
  {
   "cell_type": "markdown",
   "metadata": {},
   "source": [
    "This Jupyter notebook is one of many that fully document the data analysis completed for the publication \"DNA Barcoding, Collection Management, and the Bird Collection in the Smithsonian’s National Museum of Natural History\" by Schindel et al.\n",
    "\n",
    "You can view all analysis notebooks, data, and figures in the GitHub repository here: https://github.com/MikeTrizna/USNMBirdDNABarcoding2017"
   ]
  },
  {
   "cell_type": "markdown",
   "metadata": {},
   "source": [
    "# Creating Table 2 -- Species-level summary before and after dataset"
   ]
  },
  {
   "cell_type": "code",
   "execution_count": 1,
   "metadata": {
    "collapsed": true
   },
   "outputs": [],
   "source": [
    "import pandas as pd"
   ]
  },
  {
   "cell_type": "code",
   "execution_count": 2,
   "metadata": {},
   "outputs": [
    {
     "name": "stdout",
     "output_type": "stream",
     "text": [
      "685\n",
      "1344\n",
      "1960\n",
      "            scientific_name  count  max_intra  min_inter\n",
      "0            Abrornis humei      1        NaN    0.07716\n",
      "1         Abrornis inornata      3   0.002963    0.07716\n",
      "2       Abrornis proregulus      3   0.006173    0.07870\n",
      "3    Abroscopus albogularis      1        NaN    0.11040\n",
      "4  Abroscopus superciliaris      1        NaN    0.11040\n"
     ]
    }
   ],
   "source": [
    "before_schindel2011_summary = pd.read_csv('data/processed/before_schindel2011_distance_summary.tsv',\n",
    "                                           sep='\\t')\n",
    "print(len(before_schindel2011_summary))\n",
    "schindel2017_summary = pd.read_csv('data/processed/schindel2017_distance_summary.tsv',\n",
    "                                   sep='\\t')\n",
    "print(len(schindel2017_summary))\n",
    "combined_summary = pd.read_csv('data/processed/combined_distance_summary.tsv',\n",
    "                               sep='\\t')\n",
    "print(len(combined_summary))\n",
    "print(combined_summary.head())"
   ]
  },
  {
   "cell_type": "code",
   "execution_count": 3,
   "metadata": {
    "collapsed": true
   },
   "outputs": [],
   "source": [
    "from collections import OrderedDict"
   ]
  },
  {
   "cell_type": "code",
   "execution_count": 4,
   "metadata": {
    "collapsed": true
   },
   "outputs": [],
   "source": [
    "df_labels = OrderedDict([('Prior to Schindel 2011', before_schindel2011_summary),\n",
    "                         ('Schindel 2017', schindel2017_summary),\n",
    "                         ('Combined Datasets', combined_summary)])"
   ]
  },
  {
   "cell_type": "code",
   "execution_count": 7,
   "metadata": {},
   "outputs": [
    {
     "data": {
      "text/html": [
       "<style  type=\"text/css\" >\n",
       "</style>  \n",
       "<table id=\"T_61b4459e_a473_11e7_aa06_b8ca3ab9ce48\" > \n",
       "<thead>    <tr> \n",
       "        <th class=\"blank level0\" ></th> \n",
       "        <th class=\"col_heading level0 col0\" >Prior to Schindel 2011</th> \n",
       "        <th class=\"col_heading level0 col1\" >Schindel 2017</th> \n",
       "        <th class=\"col_heading level0 col2\" >Combined Datasets</th> \n",
       "    </tr></thead> \n",
       "<tbody>    <tr> \n",
       "        <th id=\"T_61b4459e_a473_11e7_aa06_b8ca3ab9ce48level0_row0\" class=\"row_heading level0 row0\" >Median maximum variablility within species</th> \n",
       "        <td id=\"T_61b4459e_a473_11e7_aa06_b8ca3ab9ce48row0_col0\" class=\"data row0 col0\" >0.30860%</td> \n",
       "        <td id=\"T_61b4459e_a473_11e7_aa06_b8ca3ab9ce48row0_col1\" class=\"data row0 col1\" >0.30670%</td> \n",
       "        <td id=\"T_61b4459e_a473_11e7_aa06_b8ca3ab9ce48row0_col2\" class=\"data row0 col2\" >0.30670%</td> \n",
       "    </tr>    <tr> \n",
       "        <th id=\"T_61b4459e_a473_11e7_aa06_b8ca3ab9ce48level0_row1\" class=\"row_heading level0 row1\" >Median minimum divergence between species</th> \n",
       "        <td id=\"T_61b4459e_a473_11e7_aa06_b8ca3ab9ce48row1_col0\" class=\"data row1 col0\" >6.62800%</td> \n",
       "        <td id=\"T_61b4459e_a473_11e7_aa06_b8ca3ab9ce48row1_col1\" class=\"data row1 col1\" >7.87000%</td> \n",
       "        <td id=\"T_61b4459e_a473_11e7_aa06_b8ca3ab9ce48row1_col2\" class=\"data row1 col2\" >7.05250%</td> \n",
       "    </tr>    <tr> \n",
       "        <th id=\"T_61b4459e_a473_11e7_aa06_b8ca3ab9ce48level0_row2\" class=\"row_heading level0 row2\" >Ratio of median minimum divergence between to median                              maximum variability within</th> \n",
       "        <td id=\"T_61b4459e_a473_11e7_aa06_b8ca3ab9ce48row2_col0\" class=\"data row2 col0\" >21.4776</td> \n",
       "        <td id=\"T_61b4459e_a473_11e7_aa06_b8ca3ab9ce48row2_col1\" class=\"data row2 col1\" >25.6603</td> \n",
       "        <td id=\"T_61b4459e_a473_11e7_aa06_b8ca3ab9ce48row2_col2\" class=\"data row2 col2\" >22.9948</td> \n",
       "    </tr></tbody> \n",
       "</table> "
      ],
      "text/plain": [
       "<pandas.io.formats.style.Styler at 0x864cb00>"
      ]
     },
     "execution_count": 7,
     "metadata": {},
     "output_type": "execute_result"
    }
   ],
   "source": [
    "median_dict = OrderedDict()\n",
    "for title, df in df_labels.items():\n",
    "    median_dict[title] = OrderedDict([\n",
    "                           ('Median maximum variablility within species', '{:.5%}'.format(df['max_intra'].median())),\n",
    "                           ('Median minimum divergence between species', '{:.5%}'.format(df['min_inter'].median())),\n",
    "                           ('Ratio of median minimum divergence between to median \\\n",
    "                             maximum variability within', df['min_inter'].median()/ df['max_intra'].median())])\n",
    "median_df = pd.DataFrame(median_dict)\n",
    "median_df.style"
   ]
  },
  {
   "cell_type": "code",
   "execution_count": 6,
   "metadata": {},
   "outputs": [
    {
     "data": {
      "text/html": [
       "<style  type=\"text/css\" >\n",
       "</style>  \n",
       "<table id=\"T_5528e42e_a473_11e7_b7c0_b8ca3ab9ce48\" > \n",
       "<thead>    <tr> \n",
       "        <th class=\"blank level0\" ></th> \n",
       "        <th class=\"col_heading level0 col0\" >Prior to Schindel 2011</th> \n",
       "        <th class=\"col_heading level0 col1\" >Schindel 2017</th> \n",
       "        <th class=\"col_heading level0 col2\" >Combined Datasets</th> \n",
       "    </tr></thead> \n",
       "<tbody>    <tr> \n",
       "        <th id=\"T_5528e42e_a473_11e7_b7c0_b8ca3ab9ce48level0_row0\" class=\"row_heading level0 row0\" >Mean maximum variablility within species</th> \n",
       "        <td id=\"T_5528e42e_a473_11e7_b7c0_b8ca3ab9ce48row0_col0\" class=\"data row0 col0\" >0.60%</td> \n",
       "        <td id=\"T_5528e42e_a473_11e7_b7c0_b8ca3ab9ce48row0_col1\" class=\"data row0 col1\" >0.70%</td> \n",
       "        <td id=\"T_5528e42e_a473_11e7_b7c0_b8ca3ab9ce48row0_col2\" class=\"data row0 col2\" >0.69%</td> \n",
       "    </tr>    <tr> \n",
       "        <th id=\"T_5528e42e_a473_11e7_b7c0_b8ca3ab9ce48level0_row1\" class=\"row_heading level0 row1\" >Mean minimum divergence between species</th> \n",
       "        <td id=\"T_5528e42e_a473_11e7_b7c0_b8ca3ab9ce48row1_col0\" class=\"data row1 col0\" >6.35%</td> \n",
       "        <td id=\"T_5528e42e_a473_11e7_b7c0_b8ca3ab9ce48row1_col1\" class=\"data row1 col1\" >7.55%</td> \n",
       "        <td id=\"T_5528e42e_a473_11e7_b7c0_b8ca3ab9ce48row1_col2\" class=\"data row1 col2\" >6.65%</td> \n",
       "    </tr>    <tr> \n",
       "        <th id=\"T_5528e42e_a473_11e7_b7c0_b8ca3ab9ce48level0_row2\" class=\"row_heading level0 row2\" >Ratio of mean minimum divergence between to mean                              maximum variability within</th> \n",
       "        <td id=\"T_5528e42e_a473_11e7_b7c0_b8ca3ab9ce48row2_col0\" class=\"data row2 col0\" >10.5683</td> \n",
       "        <td id=\"T_5528e42e_a473_11e7_b7c0_b8ca3ab9ce48row2_col1\" class=\"data row2 col1\" >10.7953</td> \n",
       "        <td id=\"T_5528e42e_a473_11e7_b7c0_b8ca3ab9ce48row2_col2\" class=\"data row2 col2\" >9.58865</td> \n",
       "    </tr></tbody> \n",
       "</table> "
      ],
      "text/plain": [
       "<pandas.io.formats.style.Styler at 0x8613b38>"
      ]
     },
     "execution_count": 6,
     "metadata": {},
     "output_type": "execute_result"
    }
   ],
   "source": [
    "mean_dict = OrderedDict()\n",
    "for title, df in df_labels.items():\n",
    "    mean_dict[title] = OrderedDict([\n",
    "                           ('Mean maximum variablility within species', '{:.2%}'.format(df['max_intra'].mean())),\n",
    "                           ('Mean minimum divergence between species', '{:.2%}'.format(df['min_inter'].mean())),\n",
    "                           ('Ratio of mean minimum divergence between to mean \\\n",
    "                             maximum variability within', df['min_inter'].mean()/ df['max_intra'].mean())])\n",
    "mean_df = pd.DataFrame(mean_dict)\n",
    "mean_df.style"
   ]
  },
  {
   "cell_type": "code",
   "execution_count": null,
   "metadata": {
    "collapsed": true
   },
   "outputs": [],
   "source": []
  }
 ],
 "metadata": {
  "anaconda-cloud": {},
  "kernelspec": {
   "display_name": "Python 3",
   "language": "python",
   "name": "python3"
  },
  "language_info": {
   "codemirror_mode": {
    "name": "ipython",
    "version": 3
   },
   "file_extension": ".py",
   "mimetype": "text/x-python",
   "name": "python",
   "nbconvert_exporter": "python",
   "pygments_lexer": "ipython3",
   "version": "3.5.1"
  }
 },
 "nbformat": 4,
 "nbformat_minor": 2
}
